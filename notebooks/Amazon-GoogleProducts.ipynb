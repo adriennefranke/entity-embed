{
 "cells": [
  {
   "cell_type": "markdown",
   "metadata": {},
   "source": [
    "## Load Dataset"
   ]
  },
  {
   "cell_type": "code",
   "execution_count": 1,
   "metadata": {},
   "outputs": [],
   "source": [
    "%load_ext autoreload\n",
    "%autoreload 2"
   ]
  },
  {
   "cell_type": "code",
   "execution_count": 2,
   "metadata": {},
   "outputs": [],
   "source": [
    "from importlib import reload\n",
    "import logging\n",
    "reload(logging)\n",
    "logging.basicConfig(format='%(asctime)s %(levelname)s:%(message)s', level=logging.INFO, datefmt='%H:%M:%S')"
   ]
  },
  {
   "cell_type": "code",
   "execution_count": 3,
   "metadata": {},
   "outputs": [],
   "source": [
    "# libgomp issue, must import n2 before torch\n",
    "from n2 import HnswIndex"
   ]
  },
  {
   "cell_type": "code",
   "execution_count": 4,
   "metadata": {},
   "outputs": [],
   "source": [
    "import sys\n",
    "\n",
    "sys.path.insert(0, '..')"
   ]
  },
  {
   "cell_type": "code",
   "execution_count": 5,
   "metadata": {},
   "outputs": [],
   "source": [
    "import os\n",
    "home_dir = os.getenv('HOME')"
   ]
  },
  {
   "cell_type": "markdown",
   "metadata": {},
   "source": [
    "https://dbs.uni-leipzig.de/research/projects/object_matching/benchmark_datasets_for_entity_resolution"
   ]
  },
  {
   "cell_type": "code",
   "execution_count": 6,
   "metadata": {},
   "outputs": [],
   "source": [
    "from collections import defaultdict\n",
    "import itertools\n",
    "\n",
    "def Enumerator(start=0, initial=()):\n",
    "    return defaultdict(itertools.count(start).__next__, initial)"
   ]
  },
  {
   "cell_type": "code",
   "execution_count": 7,
   "metadata": {},
   "outputs": [
    {
     "data": {
      "application/vnd.jupyter.widget-view+json": {
       "model_id": "e195506ccaa14e98bb1a147c7100ee75",
       "version_major": 2,
       "version_minor": 0
      },
      "text/plain": [
       "HBox(children=(HTML(value=''), FloatProgress(value=0.0, max=4589.0), HTML(value='')))"
      ]
     },
     "metadata": {},
     "output_type": "display_data"
    },
    {
     "name": "stdout",
     "output_type": "stream",
     "text": [
      "\n"
     ]
    }
   ],
   "source": [
    "import glob\n",
    "import csv\n",
    "from tqdm.auto import tqdm\n",
    "\n",
    "id_enumerator = Enumerator()\n",
    "row_dict = {}\n",
    "left_id_set = set()\n",
    "right_id_set = set()\n",
    "rows_total = 1363 + 3226\n",
    "clusters_total = 1300\n",
    "\n",
    "with tqdm(total=rows_total) as pbar:\n",
    "    with open(f'{home_dir}/Downloads/Amazon-GoogleProducts/Amazon.csv', encoding=\"latin1\") as f:\n",
    "        for row in csv.DictReader(f):\n",
    "            row['id'] = id_enumerator[row[\"id\"]]\n",
    "            row['name'] = row.pop('title')\n",
    "            row['source'] = 'google'\n",
    "            row_dict[row['id']] = row\n",
    "            left_id_set.add(row['id'])\n",
    "            pbar.update(1)\n",
    "    \n",
    "    with open(f'{home_dir}/Downloads/Amazon-GoogleProducts/GoogleProducts.csv', encoding=\"latin1\") as f:\n",
    "        for row in csv.DictReader(f):\n",
    "            row['id'] = id_enumerator[row[\"id\"]]\n",
    "            row['source'] = 'amazon'\n",
    "            row_dict[row['id']] = row\n",
    "            right_id_set.add(row['id'])\n",
    "            pbar.update(1)"
   ]
  },
  {
   "cell_type": "code",
   "execution_count": 8,
   "metadata": {},
   "outputs": [
    {
     "data": {
      "text/plain": [
       "1300"
      ]
     },
     "execution_count": 8,
     "metadata": {},
     "output_type": "execute_result"
    }
   ],
   "source": [
    "true_pair_set = set()\n",
    "\n",
    "with open(f'{home_dir}/Downloads/Amazon-GoogleProducts/Amzon_GoogleProducts_perfectMapping.csv') as f:\n",
    "    for row in csv.DictReader(f):\n",
    "        id_left = id_enumerator[row['idAmazon']]\n",
    "        id_right = id_enumerator[row['idGoogleBase']]\n",
    "        true_pair_set.add(tuple(sorted([id_left, id_right])))\n",
    "\n",
    "len(true_pair_set)"
   ]
  },
  {
   "cell_type": "code",
   "execution_count": 9,
   "metadata": {},
   "outputs": [
    {
     "data": {
      "text/plain": [
       "2404"
      ]
     },
     "execution_count": 9,
     "metadata": {},
     "output_type": "execute_result"
    }
   ],
   "source": [
    "from entity_embed.data_utils.utils import id_pairs_to_cluster_mapping_and_dict\n",
    "\n",
    "cluster_mapping, cluster_dict = id_pairs_to_cluster_mapping_and_dict(true_pair_set)\n",
    "len(cluster_mapping)"
   ]
  },
  {
   "cell_type": "code",
   "execution_count": 10,
   "metadata": {},
   "outputs": [
    {
     "data": {
      "text/plain": [
       "1105"
      ]
     },
     "execution_count": 10,
     "metadata": {},
     "output_type": "execute_result"
    }
   ],
   "source": [
    "len(cluster_dict)"
   ]
  },
  {
   "cell_type": "code",
   "execution_count": 11,
   "metadata": {},
   "outputs": [],
   "source": [
    "# TODO: deal with this difference\n",
    "# from entity_embed.data_utils.utils import cluster_dict_to_id_pairs\n",
    "\n",
    "# assert len(true_pair_set - cluster_dict_to_id_pairs(cluster_dict)) == 0"
   ]
  },
  {
   "cell_type": "code",
   "execution_count": 12,
   "metadata": {},
   "outputs": [
    {
     "data": {
      "application/vnd.jupyter.widget-view+json": {
       "model_id": "bab96b2b154141e881781bbeb35838af",
       "version_major": 2,
       "version_minor": 0
      },
      "text/plain": [
       "HBox(children=(HTML(value=''), FloatProgress(value=0.0, max=4589.0), HTML(value='')))"
      ]
     },
     "metadata": {},
     "output_type": "display_data"
    },
    {
     "name": "stdout",
     "output_type": "stream",
     "text": [
      "\n"
     ]
    }
   ],
   "source": [
    "cluster_attr = 'cluster_id'\n",
    "max_cluster_id = max(cluster_mapping.values())\n",
    "\n",
    "for row_id, row in tqdm(row_dict.items()):\n",
    "    try:\n",
    "        row[cluster_attr] = cluster_mapping[row_id]\n",
    "    except KeyError:\n",
    "        row[cluster_attr] = max_cluster_id\n",
    "        max_cluster_id += 1"
   ]
  },
  {
   "cell_type": "code",
   "execution_count": 13,
   "metadata": {},
   "outputs": [
    {
     "data": {
      "text/plain": [
       "[{'id': 938,\n",
       "  'description': 'improve your typing skills today! typing instructor deluxe has a progressive design that has been developed for over 19 years. typing instructor deluxe can provide the right lessons tests strengthening exercises practice material and typing games for your skill level. you can even build your own personal typing plan to focus on specific areas you would like to improve. if you think learning has to be all hard work and no fun think again! for beginning to advanced typists kids to adults typing instructor deluxe will motivate you to improve your typing speed and accuracy using a travel theme and exciting typing challenges.educates entertains and motivates: choose from many typing plans or build your ownnavigate easily and choose your typing materialnew! dynamic learning methodsave your results and reports to track progresslearn voice-touch typing (dictation)3 unique travel themescolorful photos and musicten exciting games300+ magazine articles',\n",
       "  'manufacturer': 'individual software',\n",
       "  'price': '9.99',\n",
       "  'name': 'typing instructor deluxe (jewel case)',\n",
       "  'source': 'google',\n",
       "  'cluster_id': 938},\n",
       " {'id': 2238,\n",
       "  'name': 'individual software inc typing instructor deluxe j/c',\n",
       "  'description': 'for all ages typing instructor deluxe is targeted to pc users at every level who want to learn how to touch type. incluees 3 travel themes dynamic typing tests new multi-level games and custom personalization. system requiremen',\n",
       "  'manufacturer': '',\n",
       "  'price': '6.84',\n",
       "  'source': 'amazon',\n",
       "  'cluster_id': 938}]"
      ]
     },
     "execution_count": 13,
     "metadata": {},
     "output_type": "execute_result"
    }
   ],
   "source": [
    "[row_dict[row_id] for row_id in next(iter(true_pair_set))]"
   ]
  },
  {
   "cell_type": "markdown",
   "metadata": {},
   "source": [
    "## Preprocess"
   ]
  },
  {
   "cell_type": "code",
   "execution_count": 14,
   "metadata": {},
   "outputs": [],
   "source": [
    "attr_list = ['name', 'description', 'manufacturer', 'price']"
   ]
  },
  {
   "cell_type": "code",
   "execution_count": 15,
   "metadata": {},
   "outputs": [
    {
     "data": {
      "application/vnd.jupyter.widget-view+json": {
       "model_id": "75042345ec4244abaa9f1a2eb0f5bc3a",
       "version_major": 2,
       "version_minor": 0
      },
      "text/plain": [
       "HBox(children=(HTML(value=''), FloatProgress(value=0.0, max=4589.0), HTML(value='')))"
      ]
     },
     "metadata": {},
     "output_type": "display_data"
    },
    {
     "name": "stdout",
     "output_type": "stream",
     "text": [
      "\n"
     ]
    }
   ],
   "source": [
    "import unidecode\n",
    "from entity_embed.data_utils.one_hot_encoders import default_tokenizer\n",
    "\n",
    "def clean_str(s):\n",
    "    s = unidecode.unidecode(s).lower().strip()\n",
    "    s_tokens = itertools.islice((s_part[:30] for s_part in default_tokenizer(s)), 0, 30)\n",
    "    return ' '.join(s_tokens)[:300]\n",
    "\n",
    "for row in tqdm(row_dict.values()):\n",
    "    for attr in attr_list:\n",
    "        row[attr] = clean_str(row[attr])"
   ]
  },
  {
   "cell_type": "markdown",
   "metadata": {},
   "source": [
    "## Init Data Module"
   ]
  },
  {
   "cell_type": "code",
   "execution_count": 16,
   "metadata": {},
   "outputs": [],
   "source": [
    "import torch\n",
    "import numpy as np\n",
    "\n",
    "random_seed = 42\n",
    "torch.manual_seed(random_seed)\n",
    "np.random.seed(random_seed)"
   ]
  },
  {
   "cell_type": "code",
   "execution_count": 17,
   "metadata": {},
   "outputs": [],
   "source": [
    "alphabet = list('0123456789abcdefghijklmnopqrstuvwxyz!\"#$%&\\'()*+,-./:;<=>?@[\\\\]^_`{|}~ ')"
   ]
  },
  {
   "cell_type": "code",
   "execution_count": 18,
   "metadata": {},
   "outputs": [],
   "source": [
    "attr_info_dict = {\n",
    "    'name': {\n",
    "        'is_multitoken': True,\n",
    "        'tokenizer': default_tokenizer,\n",
    "        'alphabet': alphabet,\n",
    "        'max_str_len': None,  # compute\n",
    "    },\n",
    "    'description': {\n",
    "        'is_multitoken': True,\n",
    "        'tokenizer': default_tokenizer,\n",
    "        'alphabet': alphabet,\n",
    "        'max_str_len': None,  # compute\n",
    "    },\n",
    "    'manufacturer': {\n",
    "        'is_multitoken': True,\n",
    "        'tokenizer': default_tokenizer,\n",
    "        'alphabet': alphabet,\n",
    "        'max_str_len': None,  # compute\n",
    "    },\n",
    "    'price': {\n",
    "        'is_multitoken': False,\n",
    "        'tokenizer': None,\n",
    "        'alphabet': alphabet,  # compute\n",
    "        'max_str_len': None,  # compute\n",
    "    }\n",
    "}"
   ]
  },
  {
   "cell_type": "code",
   "execution_count": 19,
   "metadata": {},
   "outputs": [
    {
     "name": "stderr",
     "output_type": "stream",
     "text": [
      "14:59:47 INFO:For attr='name', computing actual alphabet and max_str_len\n",
      "14:59:47 INFO:For attr='name', using actual_max_str_len=26\n",
      "14:59:47 INFO:For attr='description', computing actual alphabet and max_str_len\n",
      "14:59:47 INFO:actual_max_str_len=29 must be pair to enable NN pooling. Updating to 30\n",
      "14:59:47 INFO:For attr='description', using actual_max_str_len=30\n",
      "14:59:47 INFO:For attr='manufacturer', computing actual alphabet and max_str_len\n",
      "14:59:47 INFO:actual_max_str_len=15 must be pair to enable NN pooling. Updating to 16\n",
      "14:59:47 INFO:For attr='manufacturer', using actual_max_str_len=16\n",
      "14:59:47 INFO:For attr='price', computing actual alphabet and max_str_len\n",
      "14:59:47 INFO:For attr='price', using actual_max_str_len=14\n"
     ]
    }
   ],
   "source": [
    "from entity_embed import MultiSigLinkageEmbed\n",
    "\n",
    "train_cluster_len = 200\n",
    "valid_cluster_len = 200\n",
    "ann_k = 100\n",
    "use_mask = True\n",
    "model = MultiSigLinkageEmbed(\n",
    "    # data kwargs\n",
    "    row_dict=row_dict,\n",
    "    attr_info_dict=attr_info_dict,\n",
    "    cluster_attr=cluster_attr,\n",
    "    pos_pair_batch_size=45,\n",
    "    neg_pair_batch_size=1225,\n",
    "    row_batch_size=16,\n",
    "    train_cluster_len=train_cluster_len,\n",
    "    valid_cluster_len=valid_cluster_len,\n",
    "    test_cluster_len=clusters_total - valid_cluster_len - train_cluster_len,\n",
    "    only_plural_clusters=True,\n",
    "    left_id_set=left_id_set,\n",
    "    right_id_set=right_id_set,\n",
    "    random_seed=random_seed,\n",
    "    # model kwargs\n",
    "    use_mask=use_mask,\n",
    "    ann_k=ann_k,\n",
    ")"
   ]
  },
  {
   "cell_type": "markdown",
   "metadata": {},
   "source": [
    "## Training"
   ]
  },
  {
   "cell_type": "code",
   "execution_count": 20,
   "metadata": {
    "scrolled": false
   },
   "outputs": [
    {
     "name": "stderr",
     "output_type": "stream",
     "text": [
      "14:59:47 INFO:Fit model_sig_i=0, learning signature with unused_attr_list=['name', 'description', 'manufacturer', 'price']\n",
      "14:59:47 INFO:GPU available: True, used: True\n",
      "14:59:47 INFO:TPU available: None, using: 0 TPU cores\n",
      "14:59:47 INFO:LOCAL_RANK: 0 - CUDA_VISIBLE_DEVICES: [0]\n",
      "14:59:47 INFO:Train pair count: 292\n",
      "14:59:47 INFO:Valid pair count: 265\n",
      "14:59:47 INFO:Test pair count: 998\n",
      "14:59:49 INFO:\n",
      "  | Name        | Type           | Params\n",
      "-----------------------------------------------\n",
      "0 | blocker_net | BlockerNet     | 3.3 M \n",
      "1 | losser      | NTXentLoss     | 0     \n",
      "2 | miner       | BatchHardMiner | 0     \n",
      "-----------------------------------------------\n",
      "3.3 M     Trainable params\n",
      "0         Non-trainable params\n",
      "3.3 M     Total params\n"
     ]
    },
    {
     "data": {
      "application/vnd.jupyter.widget-view+json": {
       "model_id": "",
       "version_major": 2,
       "version_minor": 0
      },
      "text/plain": [
       "HBox(children=(HTML(value='Validation sanity check'), FloatProgress(value=1.0, bar_style='info', layout=Layout…"
      ]
     },
     "metadata": {},
     "output_type": "display_data"
    },
    {
     "data": {
      "application/vnd.jupyter.widget-view+json": {
       "model_id": "441e121069fb474793dc1695c56cbf75",
       "version_major": 2,
       "version_minor": 0
      },
      "text/plain": [
       "HBox(children=(HTML(value='Training'), FloatProgress(value=1.0, bar_style='info', layout=Layout(flex='2'), max…"
      ]
     },
     "metadata": {},
     "output_type": "display_data"
    },
    {
     "data": {
      "application/vnd.jupyter.widget-view+json": {
       "model_id": "",
       "version_major": 2,
       "version_minor": 0
      },
      "text/plain": [
       "HBox(children=(HTML(value='Validating'), FloatProgress(value=1.0, bar_style='info', layout=Layout(flex='2'), m…"
      ]
     },
     "metadata": {},
     "output_type": "display_data"
    },
    {
     "data": {
      "application/vnd.jupyter.widget-view+json": {
       "model_id": "",
       "version_major": 2,
       "version_minor": 0
      },
      "text/plain": [
       "HBox(children=(HTML(value='Validating'), FloatProgress(value=1.0, bar_style='info', layout=Layout(flex='2'), m…"
      ]
     },
     "metadata": {},
     "output_type": "display_data"
    },
    {
     "data": {
      "application/vnd.jupyter.widget-view+json": {
       "model_id": "",
       "version_major": 2,
       "version_minor": 0
      },
      "text/plain": [
       "HBox(children=(HTML(value='Validating'), FloatProgress(value=1.0, bar_style='info', layout=Layout(flex='2'), m…"
      ]
     },
     "metadata": {},
     "output_type": "display_data"
    },
    {
     "data": {
      "application/vnd.jupyter.widget-view+json": {
       "model_id": "",
       "version_major": 2,
       "version_minor": 0
      },
      "text/plain": [
       "HBox(children=(HTML(value='Validating'), FloatProgress(value=1.0, bar_style='info', layout=Layout(flex='2'), m…"
      ]
     },
     "metadata": {},
     "output_type": "display_data"
    },
    {
     "data": {
      "application/vnd.jupyter.widget-view+json": {
       "model_id": "",
       "version_major": 2,
       "version_minor": 0
      },
      "text/plain": [
       "HBox(children=(HTML(value='Validating'), FloatProgress(value=1.0, bar_style='info', layout=Layout(flex='2'), m…"
      ]
     },
     "metadata": {},
     "output_type": "display_data"
    },
    {
     "data": {
      "application/vnd.jupyter.widget-view+json": {
       "model_id": "",
       "version_major": 2,
       "version_minor": 0
      },
      "text/plain": [
       "HBox(children=(HTML(value='Validating'), FloatProgress(value=1.0, bar_style='info', layout=Layout(flex='2'), m…"
      ]
     },
     "metadata": {},
     "output_type": "display_data"
    },
    {
     "data": {
      "application/vnd.jupyter.widget-view+json": {
       "model_id": "",
       "version_major": 2,
       "version_minor": 0
      },
      "text/plain": [
       "HBox(children=(HTML(value='Validating'), FloatProgress(value=1.0, bar_style='info', layout=Layout(flex='2'), m…"
      ]
     },
     "metadata": {},
     "output_type": "display_data"
    },
    {
     "data": {
      "application/vnd.jupyter.widget-view+json": {
       "model_id": "",
       "version_major": 2,
       "version_minor": 0
      },
      "text/plain": [
       "HBox(children=(HTML(value='Validating'), FloatProgress(value=1.0, bar_style='info', layout=Layout(flex='2'), m…"
      ]
     },
     "metadata": {},
     "output_type": "display_data"
    },
    {
     "data": {
      "application/vnd.jupyter.widget-view+json": {
       "model_id": "",
       "version_major": 2,
       "version_minor": 0
      },
      "text/plain": [
       "HBox(children=(HTML(value='Validating'), FloatProgress(value=1.0, bar_style='info', layout=Layout(flex='2'), m…"
      ]
     },
     "metadata": {},
     "output_type": "display_data"
    },
    {
     "data": {
      "application/vnd.jupyter.widget-view+json": {
       "model_id": "",
       "version_major": 2,
       "version_minor": 0
      },
      "text/plain": [
       "HBox(children=(HTML(value='Validating'), FloatProgress(value=1.0, bar_style='info', layout=Layout(flex='2'), m…"
      ]
     },
     "metadata": {},
     "output_type": "display_data"
    },
    {
     "data": {
      "application/vnd.jupyter.widget-view+json": {
       "model_id": "",
       "version_major": 2,
       "version_minor": 0
      },
      "text/plain": [
       "HBox(children=(HTML(value='Validating'), FloatProgress(value=1.0, bar_style='info', layout=Layout(flex='2'), m…"
      ]
     },
     "metadata": {},
     "output_type": "display_data"
    },
    {
     "data": {
      "application/vnd.jupyter.widget-view+json": {
       "model_id": "",
       "version_major": 2,
       "version_minor": 0
      },
      "text/plain": [
       "HBox(children=(HTML(value='Validating'), FloatProgress(value=1.0, bar_style='info', layout=Layout(flex='2'), m…"
      ]
     },
     "metadata": {},
     "output_type": "display_data"
    },
    {
     "data": {
      "application/vnd.jupyter.widget-view+json": {
       "model_id": "",
       "version_major": 2,
       "version_minor": 0
      },
      "text/plain": [
       "HBox(children=(HTML(value='Validating'), FloatProgress(value=1.0, bar_style='info', layout=Layout(flex='2'), m…"
      ]
     },
     "metadata": {},
     "output_type": "display_data"
    },
    {
     "data": {
      "application/vnd.jupyter.widget-view+json": {
       "model_id": "",
       "version_major": 2,
       "version_minor": 0
      },
      "text/plain": [
       "HBox(children=(HTML(value='Validating'), FloatProgress(value=1.0, bar_style='info', layout=Layout(flex='2'), m…"
      ]
     },
     "metadata": {},
     "output_type": "display_data"
    },
    {
     "data": {
      "application/vnd.jupyter.widget-view+json": {
       "model_id": "",
       "version_major": 2,
       "version_minor": 0
      },
      "text/plain": [
       "HBox(children=(HTML(value='Validating'), FloatProgress(value=1.0, bar_style='info', layout=Layout(flex='2'), m…"
      ]
     },
     "metadata": {},
     "output_type": "display_data"
    },
    {
     "data": {
      "application/vnd.jupyter.widget-view+json": {
       "model_id": "",
       "version_major": 2,
       "version_minor": 0
      },
      "text/plain": [
       "HBox(children=(HTML(value='Validating'), FloatProgress(value=1.0, bar_style='info', layout=Layout(flex='2'), m…"
      ]
     },
     "metadata": {},
     "output_type": "display_data"
    },
    {
     "data": {
      "application/vnd.jupyter.widget-view+json": {
       "model_id": "",
       "version_major": 2,
       "version_minor": 0
      },
      "text/plain": [
       "HBox(children=(HTML(value='Validating'), FloatProgress(value=1.0, bar_style='info', layout=Layout(flex='2'), m…"
      ]
     },
     "metadata": {},
     "output_type": "display_data"
    },
    {
     "data": {
      "application/vnd.jupyter.widget-view+json": {
       "model_id": "",
       "version_major": 2,
       "version_minor": 0
      },
      "text/plain": [
       "HBox(children=(HTML(value='Validating'), FloatProgress(value=1.0, bar_style='info', layout=Layout(flex='2'), m…"
      ]
     },
     "metadata": {},
     "output_type": "display_data"
    },
    {
     "data": {
      "application/vnd.jupyter.widget-view+json": {
       "model_id": "",
       "version_major": 2,
       "version_minor": 0
      },
      "text/plain": [
       "HBox(children=(HTML(value='Validating'), FloatProgress(value=1.0, bar_style='info', layout=Layout(flex='2'), m…"
      ]
     },
     "metadata": {},
     "output_type": "display_data"
    },
    {
     "data": {
      "application/vnd.jupyter.widget-view+json": {
       "model_id": "",
       "version_major": 2,
       "version_minor": 0
      },
      "text/plain": [
       "HBox(children=(HTML(value='Validating'), FloatProgress(value=1.0, bar_style='info', layout=Layout(flex='2'), m…"
      ]
     },
     "metadata": {},
     "output_type": "display_data"
    },
    {
     "data": {
      "application/vnd.jupyter.widget-view+json": {
       "model_id": "",
       "version_major": 2,
       "version_minor": 0
      },
      "text/plain": [
       "HBox(children=(HTML(value='Validating'), FloatProgress(value=1.0, bar_style='info', layout=Layout(flex='2'), m…"
      ]
     },
     "metadata": {},
     "output_type": "display_data"
    },
    {
     "name": "stderr",
     "output_type": "stream",
     "text": [
      "15:00:48 INFO:Fit model_sig_i=1, learning signature with unused_attr_list=['manufacturer', 'price']\n",
      "15:00:48 INFO:GPU available: True, used: True\n",
      "15:00:48 INFO:TPU available: None, using: 0 TPU cores\n",
      "15:00:48 INFO:LOCAL_RANK: 0 - CUDA_VISIBLE_DEVICES: [0]\n",
      "15:00:48 INFO:\n",
      "  | Name        | Type           | Params\n",
      "-----------------------------------------------\n",
      "0 | blocker_net | BlockerNet     | 1.1 M \n",
      "1 | losser      | NTXentLoss     | 0     \n",
      "2 | miner       | BatchHardMiner | 0     \n",
      "-----------------------------------------------\n",
      "1.1 M     Trainable params\n",
      "0         Non-trainable params\n",
      "1.1 M     Total params\n"
     ]
    },
    {
     "name": "stdout",
     "output_type": "stream",
     "text": [
      "\n"
     ]
    },
    {
     "data": {
      "application/vnd.jupyter.widget-view+json": {
       "model_id": "",
       "version_major": 2,
       "version_minor": 0
      },
      "text/plain": [
       "HBox(children=(HTML(value='Validation sanity check'), FloatProgress(value=1.0, bar_style='info', layout=Layout…"
      ]
     },
     "metadata": {},
     "output_type": "display_data"
    },
    {
     "data": {
      "application/vnd.jupyter.widget-view+json": {
       "model_id": "3b243d3a4b09422ebeae1f547b886f42",
       "version_major": 2,
       "version_minor": 0
      },
      "text/plain": [
       "HBox(children=(HTML(value='Training'), FloatProgress(value=1.0, bar_style='info', layout=Layout(flex='2'), max…"
      ]
     },
     "metadata": {},
     "output_type": "display_data"
    },
    {
     "data": {
      "application/vnd.jupyter.widget-view+json": {
       "model_id": "",
       "version_major": 2,
       "version_minor": 0
      },
      "text/plain": [
       "HBox(children=(HTML(value='Validating'), FloatProgress(value=1.0, bar_style='info', layout=Layout(flex='2'), m…"
      ]
     },
     "metadata": {},
     "output_type": "display_data"
    },
    {
     "data": {
      "application/vnd.jupyter.widget-view+json": {
       "model_id": "",
       "version_major": 2,
       "version_minor": 0
      },
      "text/plain": [
       "HBox(children=(HTML(value='Validating'), FloatProgress(value=1.0, bar_style='info', layout=Layout(flex='2'), m…"
      ]
     },
     "metadata": {},
     "output_type": "display_data"
    },
    {
     "data": {
      "application/vnd.jupyter.widget-view+json": {
       "model_id": "",
       "version_major": 2,
       "version_minor": 0
      },
      "text/plain": [
       "HBox(children=(HTML(value='Validating'), FloatProgress(value=1.0, bar_style='info', layout=Layout(flex='2'), m…"
      ]
     },
     "metadata": {},
     "output_type": "display_data"
    },
    {
     "data": {
      "application/vnd.jupyter.widget-view+json": {
       "model_id": "",
       "version_major": 2,
       "version_minor": 0
      },
      "text/plain": [
       "HBox(children=(HTML(value='Validating'), FloatProgress(value=1.0, bar_style='info', layout=Layout(flex='2'), m…"
      ]
     },
     "metadata": {},
     "output_type": "display_data"
    },
    {
     "data": {
      "application/vnd.jupyter.widget-view+json": {
       "model_id": "",
       "version_major": 2,
       "version_minor": 0
      },
      "text/plain": [
       "HBox(children=(HTML(value='Validating'), FloatProgress(value=1.0, bar_style='info', layout=Layout(flex='2'), m…"
      ]
     },
     "metadata": {},
     "output_type": "display_data"
    },
    {
     "data": {
      "application/vnd.jupyter.widget-view+json": {
       "model_id": "",
       "version_major": 2,
       "version_minor": 0
      },
      "text/plain": [
       "HBox(children=(HTML(value='Validating'), FloatProgress(value=1.0, bar_style='info', layout=Layout(flex='2'), m…"
      ]
     },
     "metadata": {},
     "output_type": "display_data"
    },
    {
     "data": {
      "application/vnd.jupyter.widget-view+json": {
       "model_id": "",
       "version_major": 2,
       "version_minor": 0
      },
      "text/plain": [
       "HBox(children=(HTML(value='Validating'), FloatProgress(value=1.0, bar_style='info', layout=Layout(flex='2'), m…"
      ]
     },
     "metadata": {},
     "output_type": "display_data"
    },
    {
     "data": {
      "application/vnd.jupyter.widget-view+json": {
       "model_id": "",
       "version_major": 2,
       "version_minor": 0
      },
      "text/plain": [
       "HBox(children=(HTML(value='Validating'), FloatProgress(value=1.0, bar_style='info', layout=Layout(flex='2'), m…"
      ]
     },
     "metadata": {},
     "output_type": "display_data"
    },
    {
     "data": {
      "application/vnd.jupyter.widget-view+json": {
       "model_id": "",
       "version_major": 2,
       "version_minor": 0
      },
      "text/plain": [
       "HBox(children=(HTML(value='Validating'), FloatProgress(value=1.0, bar_style='info', layout=Layout(flex='2'), m…"
      ]
     },
     "metadata": {},
     "output_type": "display_data"
    },
    {
     "data": {
      "application/vnd.jupyter.widget-view+json": {
       "model_id": "",
       "version_major": 2,
       "version_minor": 0
      },
      "text/plain": [
       "HBox(children=(HTML(value='Validating'), FloatProgress(value=1.0, bar_style='info', layout=Layout(flex='2'), m…"
      ]
     },
     "metadata": {},
     "output_type": "display_data"
    },
    {
     "data": {
      "application/vnd.jupyter.widget-view+json": {
       "model_id": "",
       "version_major": 2,
       "version_minor": 0
      },
      "text/plain": [
       "HBox(children=(HTML(value='Validating'), FloatProgress(value=1.0, bar_style='info', layout=Layout(flex='2'), m…"
      ]
     },
     "metadata": {},
     "output_type": "display_data"
    },
    {
     "data": {
      "application/vnd.jupyter.widget-view+json": {
       "model_id": "",
       "version_major": 2,
       "version_minor": 0
      },
      "text/plain": [
       "HBox(children=(HTML(value='Validating'), FloatProgress(value=1.0, bar_style='info', layout=Layout(flex='2'), m…"
      ]
     },
     "metadata": {},
     "output_type": "display_data"
    },
    {
     "data": {
      "application/vnd.jupyter.widget-view+json": {
       "model_id": "",
       "version_major": 2,
       "version_minor": 0
      },
      "text/plain": [
       "HBox(children=(HTML(value='Validating'), FloatProgress(value=1.0, bar_style='info', layout=Layout(flex='2'), m…"
      ]
     },
     "metadata": {},
     "output_type": "display_data"
    },
    {
     "data": {
      "application/vnd.jupyter.widget-view+json": {
       "model_id": "",
       "version_major": 2,
       "version_minor": 0
      },
      "text/plain": [
       "HBox(children=(HTML(value='Validating'), FloatProgress(value=1.0, bar_style='info', layout=Layout(flex='2'), m…"
      ]
     },
     "metadata": {},
     "output_type": "display_data"
    },
    {
     "data": {
      "application/vnd.jupyter.widget-view+json": {
       "model_id": "",
       "version_major": 2,
       "version_minor": 0
      },
      "text/plain": [
       "HBox(children=(HTML(value='Validating'), FloatProgress(value=1.0, bar_style='info', layout=Layout(flex='2'), m…"
      ]
     },
     "metadata": {},
     "output_type": "display_data"
    },
    {
     "data": {
      "application/vnd.jupyter.widget-view+json": {
       "model_id": "",
       "version_major": 2,
       "version_minor": 0
      },
      "text/plain": [
       "HBox(children=(HTML(value='Validating'), FloatProgress(value=1.0, bar_style='info', layout=Layout(flex='2'), m…"
      ]
     },
     "metadata": {},
     "output_type": "display_data"
    },
    {
     "data": {
      "application/vnd.jupyter.widget-view+json": {
       "model_id": "",
       "version_major": 2,
       "version_minor": 0
      },
      "text/plain": [
       "HBox(children=(HTML(value='Validating'), FloatProgress(value=1.0, bar_style='info', layout=Layout(flex='2'), m…"
      ]
     },
     "metadata": {},
     "output_type": "display_data"
    },
    {
     "data": {
      "application/vnd.jupyter.widget-view+json": {
       "model_id": "",
       "version_major": 2,
       "version_minor": 0
      },
      "text/plain": [
       "HBox(children=(HTML(value='Validating'), FloatProgress(value=1.0, bar_style='info', layout=Layout(flex='2'), m…"
      ]
     },
     "metadata": {},
     "output_type": "display_data"
    },
    {
     "data": {
      "application/vnd.jupyter.widget-view+json": {
       "model_id": "",
       "version_major": 2,
       "version_minor": 0
      },
      "text/plain": [
       "HBox(children=(HTML(value='Validating'), FloatProgress(value=1.0, bar_style='info', layout=Layout(flex='2'), m…"
      ]
     },
     "metadata": {},
     "output_type": "display_data"
    },
    {
     "data": {
      "application/vnd.jupyter.widget-view+json": {
       "model_id": "",
       "version_major": 2,
       "version_minor": 0
      },
      "text/plain": [
       "HBox(children=(HTML(value='Validating'), FloatProgress(value=1.0, bar_style='info', layout=Layout(flex='2'), m…"
      ]
     },
     "metadata": {},
     "output_type": "display_data"
    },
    {
     "data": {
      "application/vnd.jupyter.widget-view+json": {
       "model_id": "",
       "version_major": 2,
       "version_minor": 0
      },
      "text/plain": [
       "HBox(children=(HTML(value='Validating'), FloatProgress(value=1.0, bar_style='info', layout=Layout(flex='2'), m…"
      ]
     },
     "metadata": {},
     "output_type": "display_data"
    },
    {
     "data": {
      "application/vnd.jupyter.widget-view+json": {
       "model_id": "",
       "version_major": 2,
       "version_minor": 0
      },
      "text/plain": [
       "HBox(children=(HTML(value='Validating'), FloatProgress(value=1.0, bar_style='info', layout=Layout(flex='2'), m…"
      ]
     },
     "metadata": {},
     "output_type": "display_data"
    },
    {
     "data": {
      "application/vnd.jupyter.widget-view+json": {
       "model_id": "",
       "version_major": 2,
       "version_minor": 0
      },
      "text/plain": [
       "HBox(children=(HTML(value='Validating'), FloatProgress(value=1.0, bar_style='info', layout=Layout(flex='2'), m…"
      ]
     },
     "metadata": {},
     "output_type": "display_data"
    },
    {
     "data": {
      "application/vnd.jupyter.widget-view+json": {
       "model_id": "",
       "version_major": 2,
       "version_minor": 0
      },
      "text/plain": [
       "HBox(children=(HTML(value='Validating'), FloatProgress(value=1.0, bar_style='info', layout=Layout(flex='2'), m…"
      ]
     },
     "metadata": {},
     "output_type": "display_data"
    },
    {
     "data": {
      "application/vnd.jupyter.widget-view+json": {
       "model_id": "",
       "version_major": 2,
       "version_minor": 0
      },
      "text/plain": [
       "HBox(children=(HTML(value='Validating'), FloatProgress(value=1.0, bar_style='info', layout=Layout(flex='2'), m…"
      ]
     },
     "metadata": {},
     "output_type": "display_data"
    },
    {
     "name": "stdout",
     "output_type": "stream",
     "text": [
      "\n"
     ]
    }
   ],
   "source": [
    "gpus = 1\n",
    "max_epochs = 50\n",
    "check_val_every_n_epoch = 1\n",
    "early_stopping_monitor = 'valid_recall_at_0.9'\n",
    "tb_log_dir = 'tb_logs'\n",
    "tb_name = 'amzn-googl'\n",
    "\n",
    "model.fit(\n",
    "    gpus=gpus,\n",
    "    max_epochs=max_epochs,\n",
    "    check_val_every_n_epoch=check_val_every_n_epoch,\n",
    "    early_stopping_monitor=early_stopping_monitor,\n",
    "    tb_log_dir=tb_log_dir,\n",
    "    tb_name=tb_name,\n",
    ")"
   ]
  },
  {
   "cell_type": "code",
   "execution_count": 21,
   "metadata": {},
   "outputs": [
    {
     "data": {
      "text/plain": [
       "{'name': 0.7743126153945923, 'description': 0.22568733990192413}"
      ]
     },
     "metadata": {},
     "output_type": "display_data"
    },
    {
     "data": {
      "text/plain": [
       "{'manufacturer': 0.6760767102241516, 'price': 0.3239232003688812}"
      ]
     },
     "metadata": {},
     "output_type": "display_data"
    }
   ],
   "source": [
    "for lt_module in model.lt_module_list:\n",
    "    display(lt_module.get_signature_weights())"
   ]
  },
  {
   "cell_type": "markdown",
   "metadata": {},
   "source": [
    "## Testing manually "
   ]
  },
  {
   "cell_type": "code",
   "execution_count": 22,
   "metadata": {},
   "outputs": [
    {
     "name": "stderr",
     "output_type": "stream",
     "text": [
      "15:01:41 INFO:Train pair count: 292\n",
      "15:01:41 INFO:Valid pair count: 265\n",
      "15:01:41 INFO:Test pair count: 998\n"
     ]
    }
   ],
   "source": [
    "model.datamodule.setup(stage='test')"
   ]
  },
  {
   "cell_type": "code",
   "execution_count": 23,
   "metadata": {},
   "outputs": [
    {
     "data": {
      "application/vnd.jupyter.widget-view+json": {
       "model_id": "34833eae8d584628bd2ca737ce84310a",
       "version_major": 2,
       "version_minor": 0
      },
      "text/plain": [
       "HBox(children=(HTML(value='# batch embedding'), FloatProgress(value=0.0, max=97.0), HTML(value='')))"
      ]
     },
     "metadata": {},
     "output_type": "display_data"
    },
    {
     "name": "stdout",
     "output_type": "stream",
     "text": [
      "\n"
     ]
    },
    {
     "data": {
      "application/vnd.jupyter.widget-view+json": {
       "model_id": "7eed8354185149a38bc765144306ea25",
       "version_major": 2,
       "version_minor": 0
      },
      "text/plain": [
       "HBox(children=(HTML(value='# batch embedding'), FloatProgress(value=0.0, max=97.0), HTML(value='')))"
      ]
     },
     "metadata": {},
     "output_type": "display_data"
    },
    {
     "name": "stdout",
     "output_type": "stream",
     "text": [
      "\n"
     ]
    },
    {
     "data": {
      "text/plain": [
       "dict_keys([('name', 'description'), ('manufacturer', 'price')])"
      ]
     },
     "execution_count": 23,
     "metadata": {},
     "output_type": "execute_result"
    }
   ],
   "source": [
    "test_row_dict = model.datamodule.test_row_dict\n",
    "test_multisig_dict = model.predict(\n",
    "    row_dict=test_row_dict,\n",
    "    left_id_set=model.datamodule.left_id_set,\n",
    "    right_id_set=model.datamodule.right_id_set,\n",
    "    batch_size=16\n",
    ")\n",
    "test_multisig_dict.keys()"
   ]
  },
  {
   "cell_type": "code",
   "execution_count": 24,
   "metadata": {},
   "outputs": [
    {
     "data": {
      "text/plain": [
       "834"
      ]
     },
     "execution_count": 24,
     "metadata": {},
     "output_type": "execute_result"
    }
   ],
   "source": [
    "test_true_pair_set = model.datamodule.test_true_pair_set\n",
    "len(test_true_pair_set)"
   ]
  },
  {
   "cell_type": "code",
   "execution_count": 25,
   "metadata": {
    "scrolled": true
   },
   "outputs": [
    {
     "name": "stdout",
     "output_type": "stream",
     "text": [
      "CPU times: user 832 ms, sys: 14.5 ms, total: 847 ms\n",
      "Wall time: 125 ms\n"
     ]
    }
   ],
   "source": [
    "%%time\n",
    "\n",
    "from entity_embed import MultiSigANNLinkageIndex\n",
    "\n",
    "ann_index = MultiSigANNLinkageIndex(\n",
    "    multisig_dict_keys=model.multisig_dict_keys,\n",
    "    embedding_size=model.embedding_size,\n",
    ")\n",
    "ann_index.insert_multisig_dict(test_multisig_dict)\n",
    "ann_index.build()"
   ]
  },
  {
   "cell_type": "code",
   "execution_count": 53,
   "metadata": {},
   "outputs": [
    {
     "name": "stdout",
     "output_type": "stream",
     "text": [
      "CPU times: user 1.26 s, sys: 2.46 ms, total: 1.27 s\n",
      "Wall time: 198 ms\n"
     ]
    }
   ],
   "source": [
    "%%time\n",
    "\n",
    "sim_threshold_dict = {\n",
    "    ('name', 'description'): 0.3,\n",
    "    ('manufacturer', 'price'): 0.9,\n",
    "}\n",
    "found_pair_set = ann_index.search_pairs(\n",
    "    k=ann_k,\n",
    "    sim_threshold_dict=sim_threshold_dict,\n",
    "    multisig_dict=test_multisig_dict,\n",
    ")"
   ]
  },
  {
   "cell_type": "code",
   "execution_count": 54,
   "metadata": {},
   "outputs": [
    {
     "data": {
      "text/plain": [
       "26.32639791937581"
      ]
     },
     "execution_count": 54,
     "metadata": {},
     "output_type": "execute_result"
    }
   ],
   "source": [
    "from entity_embed.evaluation import pair_entity_ratio\n",
    "\n",
    "pair_entity_ratio(len(found_pair_set), len(test_row_dict))"
   ]
  },
  {
   "cell_type": "code",
   "execution_count": 55,
   "metadata": {},
   "outputs": [
    {
     "data": {
      "text/plain": [
       "(0.02035070387750062, 0.988009592326139)"
      ]
     },
     "execution_count": 55,
     "metadata": {},
     "output_type": "execute_result"
    }
   ],
   "source": [
    "from entity_embed.evaluation import precision_and_recall\n",
    "\n",
    "precision_and_recall(found_pair_set, test_true_pair_set)"
   ]
  },
  {
   "cell_type": "code",
   "execution_count": 56,
   "metadata": {},
   "outputs": [
    {
     "data": {
      "text/plain": [
       "39666"
      ]
     },
     "execution_count": 56,
     "metadata": {},
     "output_type": "execute_result"
    }
   ],
   "source": [
    "false_positives = list(found_pair_set - test_true_pair_set)\n",
    "len(false_positives)"
   ]
  },
  {
   "cell_type": "code",
   "execution_count": 57,
   "metadata": {
    "scrolled": true
   },
   "outputs": [
    {
     "data": {
      "text/plain": [
       "10"
      ]
     },
     "execution_count": 57,
     "metadata": {},
     "output_type": "execute_result"
    }
   ],
   "source": [
    "false_negatives = list(test_true_pair_set - found_pair_set)\n",
    "len(false_negatives)"
   ]
  },
  {
   "cell_type": "code",
   "execution_count": 58,
   "metadata": {},
   "outputs": [],
   "source": [
    "cos_similarity = lambda a, b: np.dot(a, b)"
   ]
  },
  {
   "cell_type": "code",
   "execution_count": 59,
   "metadata": {},
   "outputs": [
    {
     "data": {
      "text/plain": [
       "dict_keys([('name', 'description'), ('manufacturer', 'price')])"
      ]
     },
     "execution_count": 59,
     "metadata": {},
     "output_type": "execute_result"
    }
   ],
   "source": [
    "test_multisig_dict.keys()"
   ]
  },
  {
   "cell_type": "code",
   "execution_count": 60,
   "metadata": {
    "scrolled": true
   },
   "outputs": [
    {
     "data": {
      "text/plain": [
       "(0.062366813,\n",
       " {'id': 918,\n",
       "  'description': 'mobi 70008 recam 4 . 6 camera monitoring and notification software surveillance software captures and analyzes images for advanced monitoring and recording of home or office ; program performs simultaneous',\n",
       "  'manufacturer': 'mobi technologies inc .',\n",
       "  'price': '129',\n",
       "  'name': 'recam remote monitoring software',\n",
       "  'source': 'google',\n",
       "  'cluster_id': 918},\n",
       " {'id': 3921,\n",
       "  'name': 'mobi - cam 70008 monitoring and notification software',\n",
       "  'description': 'easily set - up and monitor your home or business observation system from anywhere notification of alarm and viewing via e - mail internet or cell phone multiple camera support',\n",
       "  'manufacturer': 'mobi - cam',\n",
       "  'price': '89 . 69',\n",
       "  'source': 'amazon',\n",
       "  'cluster_id': 918})"
      ]
     },
     "metadata": {},
     "output_type": "display_data"
    },
    {
     "data": {
      "text/plain": [
       "(-0.032852158,\n",
       " {'id': 845,\n",
       "  'description': \"iplaymusic ' s beginner guitar lessons is the first guitar learning program optimized for the mac and video ipod . the software takes advantage of ilife applications resident on today\",\n",
       "  'manufacturer': 'iplaymusic',\n",
       "  'price': '49 . 99',\n",
       "  'name': 'iplaymusic beginner guitar lessons for the mac and ipod',\n",
       "  'source': 'google',\n",
       "  'cluster_id': 845},\n",
       " {'id': 2324,\n",
       "  'name': \"wingnuts 2 : raina ' s revenge\",\n",
       "  'description': 'system requirements : mac os x 10 . 4 + g4 / g5 / intel 800 + mhz cpu 512 mb ram 32 mb video card 950 mb hard drive',\n",
       "  'manufacturer': '',\n",
       "  'price': '28 . 99',\n",
       "  'source': 'amazon',\n",
       "  'cluster_id': 845})"
      ]
     },
     "metadata": {},
     "output_type": "display_data"
    },
    {
     "data": {
      "text/plain": [
       "(0.06927986,\n",
       " {'id': 641,\n",
       "  'description': \"sims 2 : nightlife takes your sim into the night . explore all of your favorite after - dark activities as you discover your sims ' love lives or have\",\n",
       "  'manufacturer': 'aspyr media',\n",
       "  'price': '34 . 99',\n",
       "  'name': 'sims 2 nightlife expansion pack',\n",
       "  'source': 'google',\n",
       "  'cluster_id': 641},\n",
       " {'id': 1908,\n",
       "  'name': 'aspyr media inc sims 2 nightlife',\n",
       "  'description': \"send your sims on an epic night out ! your sims are on the town hitting all the swanky hot spots . whether they ' re dancing until dawn romancing\",\n",
       "  'manufacturer': '',\n",
       "  'price': '33 . 21',\n",
       "  'source': 'amazon',\n",
       "  'cluster_id': 641})"
      ]
     },
     "metadata": {},
     "output_type": "display_data"
    },
    {
     "data": {
      "text/plain": [
       "(0.2569316,\n",
       " {'id': 1124,\n",
       "  'description': 'printmusic ! is simply the best entry level notation software . consider it a word processor for printing music notes instead of text . designed for the less demanding user',\n",
       "  'manufacturer': 'makemusic !',\n",
       "  'price': '69 . 99',\n",
       "  'name': 'emedia print music 2006 win / mac',\n",
       "  'source': 'google',\n",
       "  'cluster_id': 1124},\n",
       " {'id': 3546,\n",
       "  'name': 'make printmusic 2006 software music production software',\n",
       "  'description': \"printmusic 2006 - sheet music creation software - mac os x and windows designed for educators worship directors performing musicians composers and arrangers who don ' t require the advanced\",\n",
       "  'manufacturer': '',\n",
       "  'price': '75 . 95',\n",
       "  'source': 'amazon',\n",
       "  'cluster_id': 1124})"
      ]
     },
     "metadata": {},
     "output_type": "display_data"
    },
    {
     "data": {
      "text/plain": [
       "(0.19588488,\n",
       " {'id': 919,\n",
       "  'description': 'an addicting puzzle phenomenon ever ! product informationsudoku is the fascinating new puzzle that is taking the world by storm ! millions of people buy newspapers for the daily sudoku',\n",
       "  'manufacturer': 'global software publishing north america inc',\n",
       "  'price': '19 . 99',\n",
       "  'name': 'sudoku unlimited + crossword addict 2cd set',\n",
       "  'source': 'google',\n",
       "  'cluster_id': 919},\n",
       " {'id': 1525,\n",
       "  'name': 'global software publ na sudoku',\n",
       "  'description': 'millions of people buy newspapers for the daily sudoku puzzle a new addictive ritual as necessary a routine as that morning jolt of coffee ! this program is chocked full',\n",
       "  'manufacturer': '',\n",
       "  'price': '4 . 82',\n",
       "  'source': 'amazon',\n",
       "  'cluster_id': 919})"
      ]
     },
     "metadata": {},
     "output_type": "display_data"
    },
    {
     "data": {
      "text/plain": [
       "(0.22431518,\n",
       " {'id': 529,\n",
       "  'description': \"zoo tycoon 2 : marine mania is a great new expansion where you ' ll help your zoo make a big splash ! add killer whales manta rays and other\",\n",
       "  'manufacturer': 'microsoft',\n",
       "  'price': '19 . 99',\n",
       "  'name': 'zoo tycoon 2 : marine mania expansion',\n",
       "  'source': 'google',\n",
       "  'cluster_id': 529},\n",
       " {'id': 2963,\n",
       "  'name': 'zoo tycoon for windows',\n",
       "  'description': 'everybody likes the zoo . and why not casual walks exotic animals and fried foods are good fun . managing a zoo of your very own is even better .',\n",
       "  'manufacturer': '',\n",
       "  'price': '25 . 99',\n",
       "  'source': 'amazon',\n",
       "  'cluster_id': 529})"
      ]
     },
     "metadata": {},
     "output_type": "display_data"
    },
    {
     "data": {
      "text/plain": [
       "(0.067054436,\n",
       " {'id': 818,\n",
       "  'description': \"canopus ( 770 - 10158 - 100 ) let ' s edit 2 . 0\",\n",
       "  'manufacturer': 'canopus',\n",
       "  'price': '99',\n",
       "  'name': \"canopus 77010158100 let ' s edit\",\n",
       "  'source': 'google',\n",
       "  'cluster_id': 818},\n",
       " {'id': 4046,\n",
       "  'name': \"canopus let ' s edit - video editing software - win consumer video editing software\",\n",
       "  'description': \"let ' s edit - realtime video editing software with movie - style effects - win canopus let ' s edit is fast and easy - to - use video\",\n",
       "  'manufacturer': '',\n",
       "  'price': '99 . 95',\n",
       "  'source': 'amazon',\n",
       "  'cluster_id': 818})"
      ]
     },
     "metadata": {},
     "output_type": "display_data"
    },
    {
     "data": {
      "text/plain": [
       "(0.24644606,\n",
       " {'id': 165,\n",
       "  'description': 'license - - 1 user ( s ) - standard - pc',\n",
       "  'manufacturer': 'hewlett packard',\n",
       "  'price': '0',\n",
       "  'name': 'hp storageworks secure path for windows workgroup edition - ( v . 4 . 0c ) - license ( 213076 - b26 )',\n",
       "  'source': 'google',\n",
       "  'cluster_id': 165},\n",
       " {'id': 2866,\n",
       "  'name': 'hewlett packard 213076 - b26 secure path v4 . 0c win wkgp ed 1 lic / cd',\n",
       "  'description': 'secure path v4 . 0c win wkgp ed 1 lic / cd',\n",
       "  'manufacturer': '',\n",
       "  'price': '1888 . 39',\n",
       "  'source': 'amazon',\n",
       "  'cluster_id': 165})"
      ]
     },
     "metadata": {},
     "output_type": "display_data"
    },
    {
     "data": {
      "text/plain": [
       "(0.1531509,\n",
       " {'id': 1138,\n",
       "  'description': 'flash ad creator creates animated ads that look like a flash developer spent hours creating it . save time & money by creating your own ad in your own time',\n",
       "  'manufacturer': 'laughing bird',\n",
       "  'price': '39 . 99',\n",
       "  'name': 'net ad creator',\n",
       "  'source': 'google',\n",
       "  'cluster_id': 1138},\n",
       " {'id': 2297,\n",
       "  'name': 'laughingbird the flash ad creator',\n",
       "  'description': '',\n",
       "  'manufacturer': '',\n",
       "  'price': '34 . 99',\n",
       "  'source': 'amazon',\n",
       "  'cluster_id': 1138})"
      ]
     },
     "metadata": {},
     "output_type": "display_data"
    },
    {
     "data": {
      "text/plain": [
       "(0.2163488,\n",
       " {'id': 662,\n",
       "  'description': 'terminal server lets you deliver windows - based applications or the windows desktop itself to virtually any computing device -- including those that cannot run windows . terminal server provides',\n",
       "  'manufacturer': 'microsoft',\n",
       "  'price': '669',\n",
       "  'name': 'microsoft windows terminal server 2003 client additional license for users - 5 user',\n",
       "  'source': 'google',\n",
       "  'cluster_id': 662},\n",
       " {'id': 2908,\n",
       "  'name': 'win 2003 ter svr cal 5pk microsoft r19 - 00846',\n",
       "  'description': 'model - ms28736nt vendor - microsoft features - windows terminal svr cal 2003 english microsoft license pack user 5 pack calmanufacturer warranty : 90 days',\n",
       "  'manufacturer': '',\n",
       "  'price': '762 . 95',\n",
       "  'source': 'amazon',\n",
       "  'cluster_id': 662})"
      ]
     },
     "metadata": {},
     "output_type": "display_data"
    }
   ],
   "source": [
    "test_left_vector_dict, test_right_vector_dict = \\\n",
    "    test_multisig_dict[('name', 'description')]\n",
    "\n",
    "for (id_left, id_right) in false_negatives[:10]:\n",
    "    display(\n",
    "        (\n",
    "            cos_similarity(test_left_vector_dict[id_left], test_right_vector_dict[id_right]),\n",
    "            row_dict[id_left], row_dict[id_right]\n",
    "        )\n",
    "    )"
   ]
  },
  {
   "cell_type": "code",
   "execution_count": 61,
   "metadata": {
    "scrolled": true
   },
   "outputs": [
    {
     "data": {
      "text/plain": [
       "(0.764573,\n",
       " {'id': 918,\n",
       "  'description': 'mobi 70008 recam 4 . 6 camera monitoring and notification software surveillance software captures and analyzes images for advanced monitoring and recording of home or office ; program performs simultaneous',\n",
       "  'manufacturer': 'mobi technologies inc .',\n",
       "  'price': '129',\n",
       "  'name': 'recam remote monitoring software',\n",
       "  'source': 'google',\n",
       "  'cluster_id': 918},\n",
       " {'id': 3921,\n",
       "  'name': 'mobi - cam 70008 monitoring and notification software',\n",
       "  'description': 'easily set - up and monitor your home or business observation system from anywhere notification of alarm and viewing via e - mail internet or cell phone multiple camera support',\n",
       "  'manufacturer': 'mobi - cam',\n",
       "  'price': '89 . 69',\n",
       "  'source': 'amazon',\n",
       "  'cluster_id': 918})"
      ]
     },
     "metadata": {},
     "output_type": "display_data"
    },
    {
     "data": {
      "text/plain": [
       "(0.7356149,\n",
       " {'id': 845,\n",
       "  'description': \"iplaymusic ' s beginner guitar lessons is the first guitar learning program optimized for the mac and video ipod . the software takes advantage of ilife applications resident on today\",\n",
       "  'manufacturer': 'iplaymusic',\n",
       "  'price': '49 . 99',\n",
       "  'name': 'iplaymusic beginner guitar lessons for the mac and ipod',\n",
       "  'source': 'google',\n",
       "  'cluster_id': 845},\n",
       " {'id': 2324,\n",
       "  'name': \"wingnuts 2 : raina ' s revenge\",\n",
       "  'description': 'system requirements : mac os x 10 . 4 + g4 / g5 / intel 800 + mhz cpu 512 mb ram 32 mb video card 950 mb hard drive',\n",
       "  'manufacturer': '',\n",
       "  'price': '28 . 99',\n",
       "  'source': 'amazon',\n",
       "  'cluster_id': 845})"
      ]
     },
     "metadata": {},
     "output_type": "display_data"
    },
    {
     "data": {
      "text/plain": [
       "(0.7614615,\n",
       " {'id': 641,\n",
       "  'description': \"sims 2 : nightlife takes your sim into the night . explore all of your favorite after - dark activities as you discover your sims ' love lives or have\",\n",
       "  'manufacturer': 'aspyr media',\n",
       "  'price': '34 . 99',\n",
       "  'name': 'sims 2 nightlife expansion pack',\n",
       "  'source': 'google',\n",
       "  'cluster_id': 641},\n",
       " {'id': 1908,\n",
       "  'name': 'aspyr media inc sims 2 nightlife',\n",
       "  'description': \"send your sims on an epic night out ! your sims are on the town hitting all the swanky hot spots . whether they ' re dancing until dawn romancing\",\n",
       "  'manufacturer': '',\n",
       "  'price': '33 . 21',\n",
       "  'source': 'amazon',\n",
       "  'cluster_id': 641})"
      ]
     },
     "metadata": {},
     "output_type": "display_data"
    },
    {
     "data": {
      "text/plain": [
       "(0.7839394,\n",
       " {'id': 1124,\n",
       "  'description': 'printmusic ! is simply the best entry level notation software . consider it a word processor for printing music notes instead of text . designed for the less demanding user',\n",
       "  'manufacturer': 'makemusic !',\n",
       "  'price': '69 . 99',\n",
       "  'name': 'emedia print music 2006 win / mac',\n",
       "  'source': 'google',\n",
       "  'cluster_id': 1124},\n",
       " {'id': 3546,\n",
       "  'name': 'make printmusic 2006 software music production software',\n",
       "  'description': \"printmusic 2006 - sheet music creation software - mac os x and windows designed for educators worship directors performing musicians composers and arrangers who don ' t require the advanced\",\n",
       "  'manufacturer': '',\n",
       "  'price': '75 . 95',\n",
       "  'source': 'amazon',\n",
       "  'cluster_id': 1124})"
      ]
     },
     "metadata": {},
     "output_type": "display_data"
    },
    {
     "data": {
      "text/plain": [
       "(0.75065225,\n",
       " {'id': 919,\n",
       "  'description': 'an addicting puzzle phenomenon ever ! product informationsudoku is the fascinating new puzzle that is taking the world by storm ! millions of people buy newspapers for the daily sudoku',\n",
       "  'manufacturer': 'global software publishing north america inc',\n",
       "  'price': '19 . 99',\n",
       "  'name': 'sudoku unlimited + crossword addict 2cd set',\n",
       "  'source': 'google',\n",
       "  'cluster_id': 919},\n",
       " {'id': 1525,\n",
       "  'name': 'global software publ na sudoku',\n",
       "  'description': 'millions of people buy newspapers for the daily sudoku puzzle a new addictive ritual as necessary a routine as that morning jolt of coffee ! this program is chocked full',\n",
       "  'manufacturer': '',\n",
       "  'price': '4 . 82',\n",
       "  'source': 'amazon',\n",
       "  'cluster_id': 919})"
      ]
     },
     "metadata": {},
     "output_type": "display_data"
    },
    {
     "data": {
      "text/plain": [
       "(0.80081916,\n",
       " {'id': 529,\n",
       "  'description': \"zoo tycoon 2 : marine mania is a great new expansion where you ' ll help your zoo make a big splash ! add killer whales manta rays and other\",\n",
       "  'manufacturer': 'microsoft',\n",
       "  'price': '19 . 99',\n",
       "  'name': 'zoo tycoon 2 : marine mania expansion',\n",
       "  'source': 'google',\n",
       "  'cluster_id': 529},\n",
       " {'id': 2963,\n",
       "  'name': 'zoo tycoon for windows',\n",
       "  'description': 'everybody likes the zoo . and why not casual walks exotic animals and fried foods are good fun . managing a zoo of your very own is even better .',\n",
       "  'manufacturer': '',\n",
       "  'price': '25 . 99',\n",
       "  'source': 'amazon',\n",
       "  'cluster_id': 529})"
      ]
     },
     "metadata": {},
     "output_type": "display_data"
    },
    {
     "data": {
      "text/plain": [
       "(0.81239396,\n",
       " {'id': 818,\n",
       "  'description': \"canopus ( 770 - 10158 - 100 ) let ' s edit 2 . 0\",\n",
       "  'manufacturer': 'canopus',\n",
       "  'price': '99',\n",
       "  'name': \"canopus 77010158100 let ' s edit\",\n",
       "  'source': 'google',\n",
       "  'cluster_id': 818},\n",
       " {'id': 4046,\n",
       "  'name': \"canopus let ' s edit - video editing software - win consumer video editing software\",\n",
       "  'description': \"let ' s edit - realtime video editing software with movie - style effects - win canopus let ' s edit is fast and easy - to - use video\",\n",
       "  'manufacturer': '',\n",
       "  'price': '99 . 95',\n",
       "  'source': 'amazon',\n",
       "  'cluster_id': 818})"
      ]
     },
     "metadata": {},
     "output_type": "display_data"
    },
    {
     "data": {
      "text/plain": [
       "(0.3578259,\n",
       " {'id': 165,\n",
       "  'description': 'license - - 1 user ( s ) - standard - pc',\n",
       "  'manufacturer': 'hewlett packard',\n",
       "  'price': '0',\n",
       "  'name': 'hp storageworks secure path for windows workgroup edition - ( v . 4 . 0c ) - license ( 213076 - b26 )',\n",
       "  'source': 'google',\n",
       "  'cluster_id': 165},\n",
       " {'id': 2866,\n",
       "  'name': 'hewlett packard 213076 - b26 secure path v4 . 0c win wkgp ed 1 lic / cd',\n",
       "  'description': 'secure path v4 . 0c win wkgp ed 1 lic / cd',\n",
       "  'manufacturer': '',\n",
       "  'price': '1888 . 39',\n",
       "  'source': 'amazon',\n",
       "  'cluster_id': 165})"
      ]
     },
     "metadata": {},
     "output_type": "display_data"
    },
    {
     "data": {
      "text/plain": [
       "(0.8303975,\n",
       " {'id': 1138,\n",
       "  'description': 'flash ad creator creates animated ads that look like a flash developer spent hours creating it . save time & money by creating your own ad in your own time',\n",
       "  'manufacturer': 'laughing bird',\n",
       "  'price': '39 . 99',\n",
       "  'name': 'net ad creator',\n",
       "  'source': 'google',\n",
       "  'cluster_id': 1138},\n",
       " {'id': 2297,\n",
       "  'name': 'laughingbird the flash ad creator',\n",
       "  'description': '',\n",
       "  'manufacturer': '',\n",
       "  'price': '34 . 99',\n",
       "  'source': 'amazon',\n",
       "  'cluster_id': 1138})"
      ]
     },
     "metadata": {},
     "output_type": "display_data"
    },
    {
     "data": {
      "text/plain": [
       "(0.61147904,\n",
       " {'id': 662,\n",
       "  'description': 'terminal server lets you deliver windows - based applications or the windows desktop itself to virtually any computing device -- including those that cannot run windows . terminal server provides',\n",
       "  'manufacturer': 'microsoft',\n",
       "  'price': '669',\n",
       "  'name': 'microsoft windows terminal server 2003 client additional license for users - 5 user',\n",
       "  'source': 'google',\n",
       "  'cluster_id': 662},\n",
       " {'id': 2908,\n",
       "  'name': 'win 2003 ter svr cal 5pk microsoft r19 - 00846',\n",
       "  'description': 'model - ms28736nt vendor - microsoft features - windows terminal svr cal 2003 english microsoft license pack user 5 pack calmanufacturer warranty : 90 days',\n",
       "  'manufacturer': '',\n",
       "  'price': '762 . 95',\n",
       "  'source': 'amazon',\n",
       "  'cluster_id': 662})"
      ]
     },
     "metadata": {},
     "output_type": "display_data"
    }
   ],
   "source": [
    "test_left_vector_dict, test_right_vector_dict = \\\n",
    "    test_multisig_dict[('manufacturer', 'price')]\n",
    "\n",
    "for (id_left, id_right) in false_negatives[:10]:\n",
    "    if id_left in test_left_vector_dict and id_right in test_right_vector_dict: \n",
    "        display(\n",
    "            (\n",
    "                cos_similarity(test_left_vector_dict[id_left], test_right_vector_dict[id_right]),\n",
    "                row_dict[id_left], row_dict[id_right]\n",
    "            )\n",
    "        )"
   ]
  }
 ],
 "metadata": {
  "kernelspec": {
   "display_name": "Python 3",
   "language": "python",
   "name": "python3"
  },
  "language_info": {
   "codemirror_mode": {
    "name": "ipython",
    "version": 3
   },
   "file_extension": ".py",
   "mimetype": "text/x-python",
   "name": "python",
   "nbconvert_exporter": "python",
   "pygments_lexer": "ipython3",
   "version": "3.8.6"
  }
 },
 "nbformat": 4,
 "nbformat_minor": 4
}
