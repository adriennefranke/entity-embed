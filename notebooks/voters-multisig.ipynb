{
 "cells": [
  {
   "cell_type": "markdown",
   "metadata": {},
   "source": [
    "## Load Dataset"
   ]
  },
  {
   "cell_type": "code",
   "execution_count": 1,
   "metadata": {},
   "outputs": [],
   "source": [
    "%load_ext autoreload\n",
    "%autoreload 2"
   ]
  },
  {
   "cell_type": "code",
   "execution_count": 2,
   "metadata": {},
   "outputs": [],
   "source": [
    "from importlib import reload\n",
    "import logging\n",
    "reload(logging)\n",
    "logging.basicConfig(format='%(asctime)s %(levelname)s:%(message)s', level=logging.INFO, datefmt='%H:%M:%S')"
   ]
  },
  {
   "cell_type": "code",
   "execution_count": 3,
   "metadata": {},
   "outputs": [],
   "source": [
    "# libgomp issue, must import n2 before torch\n",
    "from n2 import HnswIndex"
   ]
  },
  {
   "cell_type": "code",
   "execution_count": 4,
   "metadata": {},
   "outputs": [],
   "source": [
    "import sys\n",
    "\n",
    "sys.path.insert(0, '..')"
   ]
  },
  {
   "cell_type": "code",
   "execution_count": 5,
   "metadata": {},
   "outputs": [],
   "source": [
    "import os\n",
    "home_dir = os.getenv('HOME')"
   ]
  },
  {
   "cell_type": "markdown",
   "metadata": {},
   "source": [
    "https://dbs.uni-leipzig.de/research/projects/object_matching/benchmark_datasets_for_entity_resolution\n",
    "\n",
    "https://www.informatik.uni-leipzig.de/~saeedi/NCVoters_Readme.txt"
   ]
  },
  {
   "cell_type": "markdown",
   "metadata": {},
   "source": [
    "```\n",
    "5 party:\n",
    "--------- \n",
    "5 sources. \n",
    "Each source 1000,000 entities.\n",
    "There is one file per source, so totally 5 files\n",
    "****************************************************\n",
    "****************************************************\n",
    "****************************************************\n",
    "Fields:\n",
    "---------- \n",
    "recId: entites with the same recId refer to the same entity.\n",
    "givenname: \n",
    "surname: \n",
    "post code: \n",
    "suburb:\n",
    "```"
   ]
  },
  {
   "cell_type": "code",
   "execution_count": 6,
   "metadata": {},
   "outputs": [
    {
     "data": {
      "application/vnd.jupyter.widget-view+json": {
       "model_id": "9934423e40c845d3b7d7273c913f11d4",
       "version_major": 2,
       "version_minor": 0
      },
      "text/plain": [
       "HBox(children=(HTML(value=''), FloatProgress(value=0.0, max=5000000.0), HTML(value='')))"
      ]
     },
     "metadata": {},
     "output_type": "display_data"
    },
    {
     "name": "stdout",
     "output_type": "stream",
     "text": [
      "\n"
     ]
    }
   ],
   "source": [
    "import glob\n",
    "import csv\n",
    "from tqdm.auto import tqdm\n",
    "\n",
    "current_row_id = 0\n",
    "row_dict = {}\n",
    "rows_total = 5000000\n",
    "cluster_attr = 'recid'\n",
    "\n",
    "with tqdm(total=rows_total) as pbar:\n",
    "    for filename in glob.glob(f'{home_dir}/Downloads/5Party-ocp20/*.csv'):\n",
    "        with open(filename) as f:\n",
    "            for row in csv.DictReader(f):\n",
    "                row['id'] = current_row_id\n",
    "                row[cluster_attr] = int(row[cluster_attr])  # convert cluster_attr to int\n",
    "                row_dict[current_row_id] = row\n",
    "                current_row_id += 1\n",
    "                pbar.update(1)"
   ]
  },
  {
   "cell_type": "code",
   "execution_count": 7,
   "metadata": {},
   "outputs": [
    {
     "data": {
      "text/plain": [
       "{'recid': 7852009,\n",
       " 'givenname': 'kadelyn',\n",
       " 'surname': 'gragnani',\n",
       " 'suburb': 'waxhaw',\n",
       " 'postcode': '28|73',\n",
       " 'id': 0}"
      ]
     },
     "execution_count": 7,
     "metadata": {},
     "output_type": "execute_result"
    }
   ],
   "source": [
    "row_dict[0]"
   ]
  },
  {
   "cell_type": "markdown",
   "metadata": {},
   "source": [
    "## Preprocess"
   ]
  },
  {
   "cell_type": "code",
   "execution_count": 8,
   "metadata": {},
   "outputs": [],
   "source": [
    "attr_list = ['givenname', 'surname', 'suburb', 'postcode']"
   ]
  },
  {
   "cell_type": "code",
   "execution_count": 9,
   "metadata": {},
   "outputs": [
    {
     "data": {
      "application/vnd.jupyter.widget-view+json": {
       "model_id": "89a361f2fc6041d19873d70b534d90f4",
       "version_major": 2,
       "version_minor": 0
      },
      "text/plain": [
       "HBox(children=(HTML(value=''), FloatProgress(value=0.0, max=5000000.0), HTML(value='')))"
      ]
     },
     "metadata": {},
     "output_type": "display_data"
    },
    {
     "name": "stdout",
     "output_type": "stream",
     "text": [
      "\n"
     ]
    }
   ],
   "source": [
    "import unidecode\n",
    "\n",
    "def clean_str(s):\n",
    "    return unidecode.unidecode(s).lower().strip()[:30]\n",
    "\n",
    "for row in tqdm(row_dict.values()):\n",
    "    for attr in attr_list:\n",
    "        row[attr] = clean_str(row[attr])"
   ]
  },
  {
   "cell_type": "markdown",
   "metadata": {},
   "source": [
    "## Init Data Module"
   ]
  },
  {
   "cell_type": "code",
   "execution_count": 10,
   "metadata": {},
   "outputs": [],
   "source": [
    "import torch\n",
    "import numpy as np\n",
    "\n",
    "random_seed = 42\n",
    "torch.manual_seed(random_seed)\n",
    "np.random.seed(random_seed)"
   ]
  },
  {
   "cell_type": "code",
   "execution_count": 11,
   "metadata": {},
   "outputs": [],
   "source": [
    "alphabet = list('0123456789abcdefghijklmnopqrstuvwxyz!\"#$%&\\'()*+,-./:;<=>?@[\\\\]^_`{|}~ ')"
   ]
  },
  {
   "cell_type": "code",
   "execution_count": 12,
   "metadata": {},
   "outputs": [],
   "source": [
    "attr_info_dict = {\n",
    "    'givenname': {\n",
    "        'is_multitoken': False,\n",
    "        'tokenizer': None,\n",
    "        'alphabet': alphabet,\n",
    "        'max_str_len': None,  # compute\n",
    "    },\n",
    "    'surname': {\n",
    "        'is_multitoken': False,\n",
    "        'tokenizer': None,\n",
    "        'alphabet': alphabet,\n",
    "        'max_str_len': None,  # compute\n",
    "    },\n",
    "    'suburb': {\n",
    "        'is_multitoken': False,\n",
    "        'tokenizer': None,\n",
    "        'alphabet': alphabet,\n",
    "        'max_str_len': None,  # compute\n",
    "    },\n",
    "    'postcode': {\n",
    "        'is_multitoken': False,\n",
    "        'tokenizer': None,\n",
    "        'alphabet': alphabet,\n",
    "        'max_str_len': None,  # compute\n",
    "    }\n",
    "}"
   ]
  },
  {
   "cell_type": "code",
   "execution_count": 13,
   "metadata": {},
   "outputs": [
    {
     "name": "stderr",
     "output_type": "stream",
     "text": [
      "11:54:22 INFO:For attr='givenname', computing actual alphabet and max_str_len\n",
      "11:54:25 INFO:For attr='givenname', using actual_max_str_len=16\n",
      "11:54:25 INFO:For attr='surname', computing actual alphabet and max_str_len\n",
      "11:54:28 INFO:actual_max_str_len=21 must be pair to enable NN pooling. Updating to 22\n",
      "11:54:28 INFO:For attr='surname', using actual_max_str_len=22\n",
      "11:54:28 INFO:For attr='suburb', computing actual alphabet and max_str_len\n",
      "11:54:31 INFO:actual_max_str_len=21 must be pair to enable NN pooling. Updating to 22\n",
      "11:54:31 INFO:For attr='suburb', using actual_max_str_len=22\n",
      "11:54:31 INFO:For attr='postcode', computing actual alphabet and max_str_len\n",
      "11:54:34 INFO:actual_max_str_len=9 must be pair to enable NN pooling. Updating to 10\n",
      "11:54:34 INFO:For attr='postcode', using actual_max_str_len=10\n"
     ]
    }
   ],
   "source": [
    "from entity_embed import MultiSigDedupEmbed\n",
    "\n",
    "train_cluster_len = 1000\n",
    "valid_cluster_len = 1000\n",
    "test_cluster_len = 200_000\n",
    "ann_k = 10\n",
    "use_mask = False\n",
    "model = MultiSigDedupEmbed(\n",
    "    # data kwargs\n",
    "    row_dict=row_dict,\n",
    "    attr_info_dict=attr_info_dict,\n",
    "    cluster_attr=cluster_attr,\n",
    "    pos_pair_batch_size=45,\n",
    "    neg_pair_batch_size=1225,\n",
    "    row_batch_size=16,\n",
    "    train_cluster_len=train_cluster_len,\n",
    "    valid_cluster_len=valid_cluster_len,\n",
    "    test_cluster_len=test_cluster_len,\n",
    "    only_plural_clusters=True,\n",
    "    random_seed=random_seed,\n",
    "    # model kwargs\n",
    "    use_mask=use_mask,\n",
    "    ann_k=ann_k,\n",
    ")"
   ]
  },
  {
   "cell_type": "markdown",
   "metadata": {},
   "source": [
    "## Training"
   ]
  },
  {
   "cell_type": "code",
   "execution_count": 14,
   "metadata": {
    "scrolled": false
   },
   "outputs": [
    {
     "name": "stderr",
     "output_type": "stream",
     "text": [
      "11:54:34 INFO:Fit model_sig_i=0, learning signature with unused_attr_list=['givenname', 'surname', 'suburb', 'postcode']\n",
      "11:54:34 INFO:GPU available: True, used: True\n",
      "11:54:34 INFO:TPU available: None, using: 0 TPU cores\n",
      "11:54:34 INFO:LOCAL_RANK: 0 - CUDA_VISIBLE_DEVICES: [0]\n",
      "11:54:46 WARNING:train_len + valid_len + test_len=202000 is less than len(all_cluster_id_set)=500000\n",
      "11:54:48 INFO:Train pair count: 6679\n",
      "11:54:48 INFO:Valid pair count: 6645\n",
      "11:54:48 INFO:Test pair count: 1331364\n",
      "11:54:51 INFO:\n",
      "  | Name        | Type           | Params\n",
      "-----------------------------------------------\n",
      "0 | blocker_net | BlockerNet     | 2.5 M \n",
      "1 | losser      | NTXentLoss     | 0     \n",
      "2 | miner       | BatchHardMiner | 0     \n",
      "-----------------------------------------------\n",
      "2.5 M     Trainable params\n",
      "0         Non-trainable params\n",
      "2.5 M     Total params\n"
     ]
    },
    {
     "data": {
      "application/vnd.jupyter.widget-view+json": {
       "model_id": "",
       "version_major": 2,
       "version_minor": 0
      },
      "text/plain": [
       "HBox(children=(HTML(value='Validation sanity check'), FloatProgress(value=1.0, bar_style='info', layout=Layout…"
      ]
     },
     "metadata": {},
     "output_type": "display_data"
    },
    {
     "data": {
      "application/vnd.jupyter.widget-view+json": {
       "model_id": "a7b413c10d2a40789e89f48e554d6b0e",
       "version_major": 2,
       "version_minor": 0
      },
      "text/plain": [
       "HBox(children=(HTML(value='Training'), FloatProgress(value=1.0, bar_style='info', layout=Layout(flex='2'), max…"
      ]
     },
     "metadata": {},
     "output_type": "display_data"
    },
    {
     "data": {
      "application/vnd.jupyter.widget-view+json": {
       "model_id": "",
       "version_major": 2,
       "version_minor": 0
      },
      "text/plain": [
       "HBox(children=(HTML(value='Validating'), FloatProgress(value=1.0, bar_style='info', layout=Layout(flex='2'), m…"
      ]
     },
     "metadata": {},
     "output_type": "display_data"
    },
    {
     "data": {
      "application/vnd.jupyter.widget-view+json": {
       "model_id": "",
       "version_major": 2,
       "version_minor": 0
      },
      "text/plain": [
       "HBox(children=(HTML(value='Validating'), FloatProgress(value=1.0, bar_style='info', layout=Layout(flex='2'), m…"
      ]
     },
     "metadata": {},
     "output_type": "display_data"
    },
    {
     "data": {
      "application/vnd.jupyter.widget-view+json": {
       "model_id": "",
       "version_major": 2,
       "version_minor": 0
      },
      "text/plain": [
       "HBox(children=(HTML(value='Validating'), FloatProgress(value=1.0, bar_style='info', layout=Layout(flex='2'), m…"
      ]
     },
     "metadata": {},
     "output_type": "display_data"
    },
    {
     "data": {
      "application/vnd.jupyter.widget-view+json": {
       "model_id": "",
       "version_major": 2,
       "version_minor": 0
      },
      "text/plain": [
       "HBox(children=(HTML(value='Validating'), FloatProgress(value=1.0, bar_style='info', layout=Layout(flex='2'), m…"
      ]
     },
     "metadata": {},
     "output_type": "display_data"
    },
    {
     "data": {
      "application/vnd.jupyter.widget-view+json": {
       "model_id": "",
       "version_major": 2,
       "version_minor": 0
      },
      "text/plain": [
       "HBox(children=(HTML(value='Validating'), FloatProgress(value=1.0, bar_style='info', layout=Layout(flex='2'), m…"
      ]
     },
     "metadata": {},
     "output_type": "display_data"
    },
    {
     "data": {
      "application/vnd.jupyter.widget-view+json": {
       "model_id": "",
       "version_major": 2,
       "version_minor": 0
      },
      "text/plain": [
       "HBox(children=(HTML(value='Validating'), FloatProgress(value=1.0, bar_style='info', layout=Layout(flex='2'), m…"
      ]
     },
     "metadata": {},
     "output_type": "display_data"
    },
    {
     "data": {
      "application/vnd.jupyter.widget-view+json": {
       "model_id": "",
       "version_major": 2,
       "version_minor": 0
      },
      "text/plain": [
       "HBox(children=(HTML(value='Validating'), FloatProgress(value=1.0, bar_style='info', layout=Layout(flex='2'), m…"
      ]
     },
     "metadata": {},
     "output_type": "display_data"
    },
    {
     "data": {
      "application/vnd.jupyter.widget-view+json": {
       "model_id": "",
       "version_major": 2,
       "version_minor": 0
      },
      "text/plain": [
       "HBox(children=(HTML(value='Validating'), FloatProgress(value=1.0, bar_style='info', layout=Layout(flex='2'), m…"
      ]
     },
     "metadata": {},
     "output_type": "display_data"
    },
    {
     "data": {
      "application/vnd.jupyter.widget-view+json": {
       "model_id": "",
       "version_major": 2,
       "version_minor": 0
      },
      "text/plain": [
       "HBox(children=(HTML(value='Validating'), FloatProgress(value=1.0, bar_style='info', layout=Layout(flex='2'), m…"
      ]
     },
     "metadata": {},
     "output_type": "display_data"
    },
    {
     "data": {
      "application/vnd.jupyter.widget-view+json": {
       "model_id": "",
       "version_major": 2,
       "version_minor": 0
      },
      "text/plain": [
       "HBox(children=(HTML(value='Validating'), FloatProgress(value=1.0, bar_style='info', layout=Layout(flex='2'), m…"
      ]
     },
     "metadata": {},
     "output_type": "display_data"
    },
    {
     "data": {
      "application/vnd.jupyter.widget-view+json": {
       "model_id": "",
       "version_major": 2,
       "version_minor": 0
      },
      "text/plain": [
       "HBox(children=(HTML(value='Validating'), FloatProgress(value=1.0, bar_style='info', layout=Layout(flex='2'), m…"
      ]
     },
     "metadata": {},
     "output_type": "display_data"
    },
    {
     "data": {
      "application/vnd.jupyter.widget-view+json": {
       "model_id": "",
       "version_major": 2,
       "version_minor": 0
      },
      "text/plain": [
       "HBox(children=(HTML(value='Validating'), FloatProgress(value=1.0, bar_style='info', layout=Layout(flex='2'), m…"
      ]
     },
     "metadata": {},
     "output_type": "display_data"
    },
    {
     "data": {
      "application/vnd.jupyter.widget-view+json": {
       "model_id": "",
       "version_major": 2,
       "version_minor": 0
      },
      "text/plain": [
       "HBox(children=(HTML(value='Validating'), FloatProgress(value=1.0, bar_style='info', layout=Layout(flex='2'), m…"
      ]
     },
     "metadata": {},
     "output_type": "display_data"
    },
    {
     "data": {
      "application/vnd.jupyter.widget-view+json": {
       "model_id": "",
       "version_major": 2,
       "version_minor": 0
      },
      "text/plain": [
       "HBox(children=(HTML(value='Validating'), FloatProgress(value=1.0, bar_style='info', layout=Layout(flex='2'), m…"
      ]
     },
     "metadata": {},
     "output_type": "display_data"
    },
    {
     "data": {
      "application/vnd.jupyter.widget-view+json": {
       "model_id": "",
       "version_major": 2,
       "version_minor": 0
      },
      "text/plain": [
       "HBox(children=(HTML(value='Validating'), FloatProgress(value=1.0, bar_style='info', layout=Layout(flex='2'), m…"
      ]
     },
     "metadata": {},
     "output_type": "display_data"
    },
    {
     "data": {
      "application/vnd.jupyter.widget-view+json": {
       "model_id": "",
       "version_major": 2,
       "version_minor": 0
      },
      "text/plain": [
       "HBox(children=(HTML(value='Validating'), FloatProgress(value=1.0, bar_style='info', layout=Layout(flex='2'), m…"
      ]
     },
     "metadata": {},
     "output_type": "display_data"
    },
    {
     "data": {
      "application/vnd.jupyter.widget-view+json": {
       "model_id": "",
       "version_major": 2,
       "version_minor": 0
      },
      "text/plain": [
       "HBox(children=(HTML(value='Validating'), FloatProgress(value=1.0, bar_style='info', layout=Layout(flex='2'), m…"
      ]
     },
     "metadata": {},
     "output_type": "display_data"
    },
    {
     "data": {
      "application/vnd.jupyter.widget-view+json": {
       "model_id": "",
       "version_major": 2,
       "version_minor": 0
      },
      "text/plain": [
       "HBox(children=(HTML(value='Validating'), FloatProgress(value=1.0, bar_style='info', layout=Layout(flex='2'), m…"
      ]
     },
     "metadata": {},
     "output_type": "display_data"
    },
    {
     "data": {
      "application/vnd.jupyter.widget-view+json": {
       "model_id": "",
       "version_major": 2,
       "version_minor": 0
      },
      "text/plain": [
       "HBox(children=(HTML(value='Validating'), FloatProgress(value=1.0, bar_style='info', layout=Layout(flex='2'), m…"
      ]
     },
     "metadata": {},
     "output_type": "display_data"
    },
    {
     "data": {
      "application/vnd.jupyter.widget-view+json": {
       "model_id": "",
       "version_major": 2,
       "version_minor": 0
      },
      "text/plain": [
       "HBox(children=(HTML(value='Validating'), FloatProgress(value=1.0, bar_style='info', layout=Layout(flex='2'), m…"
      ]
     },
     "metadata": {},
     "output_type": "display_data"
    },
    {
     "data": {
      "application/vnd.jupyter.widget-view+json": {
       "model_id": "",
       "version_major": 2,
       "version_minor": 0
      },
      "text/plain": [
       "HBox(children=(HTML(value='Validating'), FloatProgress(value=1.0, bar_style='info', layout=Layout(flex='2'), m…"
      ]
     },
     "metadata": {},
     "output_type": "display_data"
    },
    {
     "name": "stdout",
     "output_type": "stream",
     "text": [
      "\n"
     ]
    }
   ],
   "source": [
    "gpus = 1\n",
    "max_epochs = 50\n",
    "check_val_every_n_epoch = 1\n",
    "early_stopping_monitor = 'valid_recall_at_0.5'\n",
    "tb_log_dir = 'tb_logs'\n",
    "tb_name = 'voters'\n",
    "\n",
    "model.fit(\n",
    "    gpus=gpus,\n",
    "    max_epochs=max_epochs,\n",
    "    check_val_every_n_epoch=check_val_every_n_epoch,\n",
    "    early_stopping_monitor=early_stopping_monitor,\n",
    "    tb_log_dir=tb_log_dir,\n",
    "    tb_name=tb_name,\n",
    ")"
   ]
  },
  {
   "cell_type": "code",
   "execution_count": 15,
   "metadata": {},
   "outputs": [
    {
     "data": {
      "text/plain": [
       "{'givenname': 0.2618091106414795,\n",
       " 'surname': 0.3332642614841461,\n",
       " 'suburb': 0.20276573300361633,\n",
       " 'postcode': 0.20216096937656403}"
      ]
     },
     "metadata": {},
     "output_type": "display_data"
    }
   ],
   "source": [
    "for lt_module in model.lt_module_list:\n",
    "    display(lt_module.get_signature_weights())"
   ]
  },
  {
   "cell_type": "markdown",
   "metadata": {},
   "source": [
    "## Testing manually "
   ]
  },
  {
   "cell_type": "code",
   "execution_count": 16,
   "metadata": {},
   "outputs": [
    {
     "name": "stderr",
     "output_type": "stream",
     "text": [
      "11:56:55 WARNING:train_len + valid_len + test_len=202000 is less than len(all_cluster_id_set)=500000\n",
      "11:56:56 INFO:Train pair count: 6679\n",
      "11:56:56 INFO:Valid pair count: 6645\n",
      "11:56:56 INFO:Test pair count: 1331364\n"
     ]
    }
   ],
   "source": [
    "model.datamodule.setup(stage='test')"
   ]
  },
  {
   "cell_type": "code",
   "execution_count": 17,
   "metadata": {},
   "outputs": [
    {
     "data": {
      "application/vnd.jupyter.widget-view+json": {
       "model_id": "5e26a2ba9f044d4e9a24653a76ce4025",
       "version_major": 2,
       "version_minor": 0
      },
      "text/plain": [
       "HBox(children=(HTML(value='# batch embedding'), FloatProgress(value=0.0, max=49951.0), HTML(value='')))"
      ]
     },
     "metadata": {},
     "output_type": "display_data"
    },
    {
     "name": "stdout",
     "output_type": "stream",
     "text": [
      "\n"
     ]
    },
    {
     "data": {
      "text/plain": [
       "dict_keys([('givenname', 'surname', 'suburb', 'postcode')])"
      ]
     },
     "execution_count": 17,
     "metadata": {},
     "output_type": "execute_result"
    }
   ],
   "source": [
    "test_row_dict = model.datamodule.test_row_dict\n",
    "test_multisig_dict = model.predict(\n",
    "    row_dict=test_row_dict,\n",
    "    batch_size=16\n",
    ")\n",
    "test_multisig_dict.keys()"
   ]
  },
  {
   "cell_type": "code",
   "execution_count": 18,
   "metadata": {},
   "outputs": [
    {
     "data": {
      "text/plain": [
       "1331364"
      ]
     },
     "execution_count": 18,
     "metadata": {},
     "output_type": "execute_result"
    }
   ],
   "source": [
    "test_true_pair_set = model.datamodule.test_true_pair_set\n",
    "len(test_true_pair_set)"
   ]
  },
  {
   "cell_type": "code",
   "execution_count": 19,
   "metadata": {
    "scrolled": true
   },
   "outputs": [
    {
     "name": "stdout",
     "output_type": "stream",
     "text": [
      "CPU times: user 15min 25s, sys: 2.59 s, total: 15min 27s\n",
      "Wall time: 1min 30s\n"
     ]
    }
   ],
   "source": [
    "%%time\n",
    "\n",
    "from entity_embed import MultiSigANNDedupIndex\n",
    "\n",
    "ann_index = MultiSigANNDedupIndex(\n",
    "    multisig_dict_keys=model.multisig_dict_keys,\n",
    "    embedding_size=model.embedding_size,\n",
    ")\n",
    "ann_index.insert_multisig_dict(test_multisig_dict)\n",
    "ann_index.build()"
   ]
  },
  {
   "cell_type": "code",
   "execution_count": 20,
   "metadata": {},
   "outputs": [
    {
     "name": "stdout",
     "output_type": "stream",
     "text": [
      "CPU times: user 21min 2s, sys: 2.04 s, total: 21min 4s\n",
      "Wall time: 1min 59s\n"
     ]
    }
   ],
   "source": [
    "%%time\n",
    "\n",
    "sim_threshold_dict = {\n",
    "    ('givenname', 'surname', 'suburb', 'postcode'): 0.5,\n",
    "}\n",
    "found_pair_set = ann_index.search_pairs(\n",
    "    k=ann_k,\n",
    "    sim_threshold_dict=sim_threshold_dict,\n",
    ")"
   ]
  },
  {
   "cell_type": "code",
   "execution_count": 21,
   "metadata": {},
   "outputs": [
    {
     "data": {
      "text/plain": [
       "6.162908807903765"
      ]
     },
     "execution_count": 21,
     "metadata": {},
     "output_type": "execute_result"
    }
   ],
   "source": [
    "from entity_embed.evaluation import pair_entity_ratio\n",
    "\n",
    "pair_entity_ratio(len(found_pair_set), len(test_row_dict))"
   ]
  },
  {
   "cell_type": "code",
   "execution_count": 22,
   "metadata": {},
   "outputs": [
    {
     "data": {
      "text/plain": [
       "(0.2701052871363072, 0.999275179440033)"
      ]
     },
     "execution_count": 22,
     "metadata": {},
     "output_type": "execute_result"
    }
   ],
   "source": [
    "from entity_embed.evaluation import precision_and_recall\n",
    "\n",
    "precision_and_recall(found_pair_set, test_true_pair_set)"
   ]
  },
  {
   "cell_type": "code",
   "execution_count": 23,
   "metadata": {},
   "outputs": [
    {
     "data": {
      "text/plain": [
       "3595084"
      ]
     },
     "execution_count": 23,
     "metadata": {},
     "output_type": "execute_result"
    }
   ],
   "source": [
    "false_positives = list(found_pair_set - test_true_pair_set)\n",
    "len(false_positives)"
   ]
  },
  {
   "cell_type": "code",
   "execution_count": 24,
   "metadata": {
    "scrolled": true
   },
   "outputs": [
    {
     "data": {
      "text/plain": [
       "965"
      ]
     },
     "execution_count": 24,
     "metadata": {},
     "output_type": "execute_result"
    }
   ],
   "source": [
    "false_negatives = list(test_true_pair_set - found_pair_set)\n",
    "len(false_negatives)"
   ]
  },
  {
   "cell_type": "code",
   "execution_count": 25,
   "metadata": {},
   "outputs": [],
   "source": [
    "cos_similarity = lambda a, b: np.dot(a, b)"
   ]
  },
  {
   "cell_type": "code",
   "execution_count": 26,
   "metadata": {},
   "outputs": [
    {
     "data": {
      "text/plain": [
       "dict_keys([('givenname', 'surname', 'suburb', 'postcode')])"
      ]
     },
     "execution_count": 26,
     "metadata": {},
     "output_type": "execute_result"
    }
   ],
   "source": [
    "test_multisig_dict.keys()"
   ]
  },
  {
   "cell_type": "code",
   "execution_count": 28,
   "metadata": {},
   "outputs": [
    {
     "data": {
      "text/plain": [
       "(0.59101814,\n",
       " {'recid': 3457209,\n",
       "  'givenname': 'aggie',\n",
       "  'surname': 'fillips',\n",
       "  'suburb': 'wadesb0ro',\n",
       "  'postcode': '28170',\n",
       "  'id': 2045963},\n",
       " {'recid': 3457209,\n",
       "  'givenname': 'aggie',\n",
       "  'surname': 'phillips',\n",
       "  'suburb': 'wadesboro',\n",
       "  'postcode': '28170',\n",
       "  'id': 4697033})"
      ]
     },
     "metadata": {},
     "output_type": "display_data"
    },
    {
     "data": {
      "text/plain": [
       "(0.9505236,\n",
       " {'recid': 7705558,\n",
       "  'givenname': 'matthew',\n",
       "  'surname': 'osbon',\n",
       "  'suburb': 'moregead city',\n",
       "  'postcode': '28557',\n",
       "  'id': 1026297},\n",
       " {'recid': 7705558,\n",
       "  'givenname': 'matthew',\n",
       "  'surname': 'osborn',\n",
       "  'suburb': 'morehead city',\n",
       "  'postcode': '28557',\n",
       "  'id': 3093755})"
      ]
     },
     "metadata": {},
     "output_type": "display_data"
    },
    {
     "data": {
      "text/plain": [
       "(0.62121016,\n",
       " {'recid': 5089659,\n",
       "  'givenname': 'saron',\n",
       "  'surname': 'johnston',\n",
       "  'suburb': 'charlotte',\n",
       "  'postcode': '28212',\n",
       "  'id': 25894},\n",
       " {'recid': 5089659,\n",
       "  'givenname': 'sharon',\n",
       "  'surname': 'johnson',\n",
       "  'suburb': 'charlotte',\n",
       "  'postcode': '28212',\n",
       "  'id': 3534923})"
      ]
     },
     "metadata": {},
     "output_type": "display_data"
    },
    {
     "data": {
      "text/plain": [
       "(0.94381684,\n",
       " {'recid': 6165506,\n",
       "  'givenname': 'franes',\n",
       "  'surname': 'harmon',\n",
       "  'suburb': 'elizabeth city',\n",
       "  'postcode': '27999',\n",
       "  'id': 22283},\n",
       " {'recid': 6165506,\n",
       "  'givenname': 'frances',\n",
       "  'surname': 'harmon',\n",
       "  'suburb': 'elizabeth city',\n",
       "  'postcode': '27909',\n",
       "  'id': 3107424})"
      ]
     },
     "metadata": {},
     "output_type": "display_data"
    },
    {
     "data": {
      "text/plain": [
       "(0.91287136,\n",
       " {'recid': 4591586,\n",
       "  'givenname': 'zennifer',\n",
       "  'surname': '5rebb',\n",
       "  'suburb': 'southern pines',\n",
       "  'postcode': '28387',\n",
       "  'id': 79677},\n",
       " {'recid': 4591586,\n",
       "  'givenname': 'jennifer',\n",
       "  'surname': 'trebb',\n",
       "  'suburb': 'southern pines',\n",
       "  'postcode': '28387',\n",
       "  'id': 2154122})"
      ]
     },
     "metadata": {},
     "output_type": "display_data"
    },
    {
     "data": {
      "text/plain": [
       "(0.5258381,\n",
       " {'recid': 932111,\n",
       "  'givenname': 'robert',\n",
       "  'surname': 'fillips',\n",
       "  'suburb': 'duhn',\n",
       "  'postcode': '28334',\n",
       "  'id': 3063662},\n",
       " {'recid': 932111,\n",
       "  'givenname': 'robert',\n",
       "  'surname': 'phillips',\n",
       "  'suburb': 'dunn',\n",
       "  'postcode': '28334',\n",
       "  'id': 4131364})"
      ]
     },
     "metadata": {},
     "output_type": "display_data"
    },
    {
     "data": {
      "text/plain": [
       "(0.92020535,\n",
       " {'recid': 3338272,\n",
       "  'givenname': 'dhomas',\n",
       "  'surname': 'becker',\n",
       "  'suburb': 'hillsborough',\n",
       "  'postcode': '27228',\n",
       "  'id': 33974},\n",
       " {'recid': 3338272,\n",
       "  'givenname': 'thomas',\n",
       "  'surname': 'becker',\n",
       "  'suburb': 'hillsborough',\n",
       "  'postcode': '27278',\n",
       "  'id': 3393875})"
      ]
     },
     "metadata": {},
     "output_type": "display_data"
    },
    {
     "data": {
      "text/plain": [
       "(0.47834933,\n",
       " {'recid': 4292018,\n",
       "  'givenname': 'horscio',\n",
       "  'surname': 'corbie5e',\n",
       "  'suburb': 'winston salem',\n",
       "  'postcode': '27105',\n",
       "  'id': 13194},\n",
       " {'recid': 4292018,\n",
       "  'givenname': 'oracio',\n",
       "  'surname': 'corbiere',\n",
       "  'suburb': 'winston salem',\n",
       "  'postcode': '27805',\n",
       "  'id': 1015508})"
      ]
     },
     "metadata": {},
     "output_type": "display_data"
    },
    {
     "data": {
      "text/plain": [
       "(0.6729281,\n",
       " {'recid': 5584048,\n",
       "  'givenname': 'angel',\n",
       "  'surname': 'jones',\n",
       "  'suburb': 'roanocke rapids',\n",
       "  'postcode': '2787o',\n",
       "  'id': 1042238},\n",
       " {'recid': 5584048,\n",
       "  'givenname': 'ankel',\n",
       "  'surname': 'jories',\n",
       "  'suburb': 'roanoke rapids',\n",
       "  'postcode': '27870',\n",
       "  'id': 4042346})"
      ]
     },
     "metadata": {},
     "output_type": "display_data"
    },
    {
     "data": {
      "text/plain": [
       "(0.93382704,\n",
       " {'recid': 5797641,\n",
       "  'givenname': 'crystal',\n",
       "  'surname': 'durham',\n",
       "  'suburb': 'henderson',\n",
       "  'postcode': '27536',\n",
       "  'id': 2366027},\n",
       " {'recid': 5797641,\n",
       "  'givenname': 'crystal',\n",
       "  'surname': 'durhsm',\n",
       "  'suburb': 'henderso',\n",
       "  'postcode': '27536',\n",
       "  'id': 4028591})"
      ]
     },
     "metadata": {},
     "output_type": "display_data"
    }
   ],
   "source": [
    "test_vector_dict = \\\n",
    "    test_multisig_dict[('givenname', 'surname', 'suburb', 'postcode')]\n",
    "\n",
    "for (id_left, id_right) in false_negatives[:10]:\n",
    "    display(\n",
    "        (\n",
    "            cos_similarity(test_vector_dict[id_left], test_vector_dict[id_right]),\n",
    "            row_dict[id_left], row_dict[id_right]\n",
    "        )\n",
    "    )"
   ]
  }
 ],
 "metadata": {
  "kernelspec": {
   "display_name": "Python 3",
   "language": "python",
   "name": "python3"
  },
  "language_info": {
   "codemirror_mode": {
    "name": "ipython",
    "version": 3
   },
   "file_extension": ".py",
   "mimetype": "text/x-python",
   "name": "python",
   "nbconvert_exporter": "python",
   "pygments_lexer": "ipython3",
   "version": "3.8.6"
  }
 },
 "nbformat": 4,
 "nbformat_minor": 4
}
